{
 "cells": [
  {
   "cell_type": "code",
   "execution_count": 1,
   "metadata": {},
   "outputs": [
    {
     "name": "stdout",
     "output_type": "stream",
     "text": [
      "validation sucessfull\n"
     ]
    }
   ],
   "source": [
    "import json\n",
    "import jsonschema\n",
    "from jsonschema import validate, ValidationError, SchemaError\n",
    " \n",
    "class JsonValidator:\n",
    "\n",
    "   \n",
    "    def schema_integrity(self,json_file, schema_file):\n",
    "        try:\n",
    "            validate(instance=json_file, schema=schema_file)\n",
    "        except jsonschema.ValidationError as e:\n",
    "            return False \n",
    "        except jsonschema.SchemaError as e:\n",
    "            return False\n",
    "        return True\n",
    "    \n",
    "    def validate_schema(self,json_file, schema_file, schema_integrity_file):\n",
    "        if JsonValidator.schema_integrity(self,json_file,schema_file):\n",
    "            print(\"validation sucessfull\")\n",
    "        else:\n",
    "            print(\"fail\")\n",
    "            \n",
    "\n",
    "with open('datafile.json') as jfile:\n",
    "    json_file = json.load(jfile)\n",
    "    \n",
    "with open('schema1.json') as file:\n",
    "    schema_file = json.load(file)\n",
    "              \n",
    "v =JsonValidator()\n",
    "schema_integrity_file=v.schema_integrity(json_file, schema_file)\n",
    "v.validate_schema(json_file, schema_file, schema_integrity_file)"
   ]
  },
  {
   "cell_type": "code",
   "execution_count": null,
   "metadata": {},
   "outputs": [],
   "source": []
  }
 ],
 "metadata": {
  "kernelspec": {
   "display_name": "Python 3",
   "language": "python",
   "name": "python3"
  },
  "language_info": {
   "codemirror_mode": {
    "name": "ipython",
    "version": 3
   },
   "file_extension": ".py",
   "mimetype": "text/x-python",
   "name": "python",
   "nbconvert_exporter": "python",
   "pygments_lexer": "ipython3",
   "version": "3.8.5"
  }
 },
 "nbformat": 4,
 "nbformat_minor": 4
}
